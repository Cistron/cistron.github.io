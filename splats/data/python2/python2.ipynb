{
 "cells": [
  {
   "cell_type": "markdown",
   "metadata": {},
   "source": [
    "# Basic sequence manipulations with Python\n",
    "\n",
    "In this workshop you will learn how to load a text file containing a DNA sequence, convert it to RNA and translate it to protein. The workshop will build on what you learned in your [first workshop](https://cistron.github.io/splats/python1/).\n",
    "\n",
    "Make sure you fully read all instructions - **skim reading won't cut it** - and progress code cell by code cells. Some you can just execute, others you will have to edit."
   ]
  },
  {
   "cell_type": "markdown",
   "metadata": {},
   "source": [
    "## Downloading the sequence file\n",
    "\n",
    "We start off by downloading the sequence of the [human adenosin receptor A1 (*ADORA1*)](https://www.ncbi.nlm.nih.gov/nuccore/CR541749). This file contains just the cleaned coding sequences from the linked GenBank entry.\n",
    "\n",
    "In jupyter notebooks (such as this), command prepended with an exclamation mark (`!`) are executed by the command line. Hence, we can download the data with `curl` programme. This also means you can use other command line programmes, such as `cat`, easily to inspect the file contents.\n",
    "\n",
    "**Unfortunately, the code below will only work on Mac and Linux machines. On Windows PCs, please download [cds_adora1.txt](https://cistron.github.io/splats/data/python2/cds_adora1.txt) manually and save it same folder as this notebook.**"
   ]
  },
  {
   "cell_type": "code",
   "execution_count": null,
   "metadata": {},
   "outputs": [],
   "source": [
    "# use program curl to download data\n",
    "!curl -O https://cistron.github.io/splats/data/python2/cds_adora1.txt"
   ]
  },
  {
   "cell_type": "code",
   "execution_count": null,
   "metadata": {},
   "outputs": [],
   "source": [
    "# use program cat to print out file contents\n",
    "!cat cds_adora1.txt"
   ]
  },
  {
   "cell_type": "markdown",
   "metadata": {},
   "source": [
    "Ultimately, we want this output to be read into a single `string` variable we can manipulate (i.e. convert to RNA and translate to protein). For this, the file has be opened with Python and we have to deal with the linebreaks, which are hidden `\\n` characters at the end of each line."
   ]
  },
  {
   "cell_type": "markdown",
   "metadata": {},
   "source": [
    "## Reading the sequence file\n",
    "\n",
    "In order to access file contents with Python, its core input/output packages provide an `open` function. This will provide you with an iterable file object (also called a handle), assigned to the variable `file` below.\n",
    "\n",
    "```python\n",
    "# opens a file for reading\n",
    "file = open('dna_sequence.txt',mode='r')\n",
    "# do stuff with the file contents\n",
    "file.close()\n",
    "```\n",
    "\n",
    "To free up memory, make sure to `close` the connection to the file again."
   ]
  },
  {
   "cell_type": "code",
   "execution_count": null,
   "metadata": {},
   "outputs": [],
   "source": [
    "# reading the sequence file 1\n",
    "# edit the code to read the text file you previously downloaded\n",
    "file = open( ... , mode='r')\n",
    "# Print the file contents line by line with a for-loop\n",
    "for line in file:\n",
    "    print(line, end='')\n",
    "# close the file\n",
    "file.close()"
   ]
  },
  {
   "cell_type": "markdown",
   "metadata": {},
   "source": [
    "The best way to to avoid leaving files open, is to use an approach, which doesn't explicity require us to call the `close()` method. The file will be implicity closed after executing the indented code of the `with` block.\n",
    "\n",
    "```python\n",
    "with open(\"dna_sequence.txt\", mode='r') as file:\n",
    "   # perform file operations\n",
    "```"
   ]
  },
  {
   "cell_type": "code",
   "execution_count": null,
   "metadata": {},
   "outputs": [],
   "source": [
    "# reading the sequence file 2\n",
    "# Use the `with` annotation to print the contents of cds_adora.txt\n",
    "...\n",
    "    for line in file:\n",
    "        print(line, end='')"
   ]
  },
  {
   "cell_type": "markdown",
   "metadata": {},
   "source": [
    "File objects comes with several methods providing more control over read-out. Below are a few of them. You can find more information on file reading and writing in [this part of the Python documentation](https://docs.python.org/3/tutorial/inputoutput.html#reading-and-writing-files).\n",
    "\n",
    "* `file.read(n)` returns  `n` number of characters as a string\n",
    "* `file.read()` returns the complete file as a string\n",
    "* `file.readline(n)` returns `n` number of characters of the current line as a string\n",
    "* `file.readline()` returns the current line as a string\n",
    "* `file.readlines(n)` returns the `n`th line from the current read position as a one-element list\n",
    "* `file.readlines()` returns all the lines as elements in a list\n",
    "\n",
    "The following two methods let you query and change your position within a file.\n",
    "\n",
    "* `file.seek(n)` moves the position to the `n`th character in the file\n",
    "* `file.tell()` returns the current position"
   ]
  },
  {
   "cell_type": "code",
   "execution_count": null,
   "metadata": {},
   "outputs": [],
   "source": [
    "# reading the sequence file 3\n",
    "# Read the whole file content into a list using the `readlines()` method\n",
    "with open('cds_adora1.txt','r') as file:\n",
    "     lines = ...\n",
    "print(lines)"
   ]
  },
  {
   "cell_type": "markdown",
   "metadata": {},
   "source": [
    "## Removing line-breaks\n",
    "\n",
    "In your last output, you should see that each item in the `lines` list contains the previously mentioned `\\n` line break character. A quick and easy way to do this is with the `.rstrip()` method, which removes any trailing whitespaces (the newline character is considered whitespace). If you are dealing with leading whitespaces `.lstrip()` is its partner method and `.strip()` removes all bordering whitespaces.\n",
    "\n",
    "To strip each item's whitespace\n",
    "* create a new empty list to receive the chunks of coding sequence (`cds_list`)\n",
    "* iterate over the `lines` list using a `for` loop\n",
    "* in the loop apply `.rstrip()` to each of list item (`line`) and use the `.append()` method to add it to `cds_list`"
   ]
  },
  {
   "cell_type": "code",
   "execution_count": null,
   "metadata": {},
   "outputs": [],
   "source": [
    "# removing line-breaks 1\n",
    "# complete the code below to strip off the newline characters from each item of `lines`\n",
    "cds_list = []\n",
    "for line in lines:\n",
    "    line_without_whitespace = ...\n",
    "    ...append(line_without_whitespace)\n",
    "print (cds_list)"
   ]
  },
  {
   "cell_type": "markdown",
   "metadata": {},
   "source": [
    "With the newline characters (`\\n`) removed, the list of coding sequence chunks (`cds_list`) can be joined into one continuous string using the `.join()` method."
   ]
  },
  {
   "cell_type": "code",
   "execution_count": null,
   "metadata": {
    "scrolled": true
   },
   "outputs": [],
   "source": [
    "# Execute this cell to see the effect of `.join()`\n",
    "a_list = ['a', 'b', 'c']\n",
    "with_separator = '-'.join(a_list)\n",
    "without_separator = ''.join(a_list)\n",
    "print(with_separator)\n",
    "print(without_separator)"
   ]
  },
  {
   "cell_type": "markdown",
   "metadata": {},
   "source": [
    "As you can see from the example above, the string to which the `.join()` method is applied functions as a separator. If left empty `''`, the items in the list are joined directly to each other."
   ]
  },
  {
   "cell_type": "code",
   "execution_count": null,
   "metadata": {},
   "outputs": [],
   "source": [
    "# removing line breaks 2\n",
    "# complete the code below to join `cds_list` into a single string `cds`\n",
    "cds = ...\n",
    "print(cds)"
   ]
  },
  {
   "cell_type": "markdown",
   "metadata": {},
   "source": [
    "## From DNA to RNA\n",
    "\n",
    "Great, the coding sequence is in one continuous string. To translate it into an amino acid sequence, we need a codon table, such as the dictionary in the code cell below. There are, however, two problems:\n",
    "\n",
    "1. The codons are all in uppercase and\n",
    "2. all codons are RNA.\n",
    "\n",
    "You could either convert the codon table to lower-case DNA or convert the coding sequence to uppercase RNA (less the tedious)."
   ]
  },
  {
   "cell_type": "code",
   "execution_count": null,
   "metadata": {},
   "outputs": [],
   "source": [
    "# Execute cell to store the codon table as a dictionary\n",
    "codon_table  = {\n",
    "    \"GCA\":\"A\", \"GCC\":\"A\", \"GCG\":\"A\", \"GCU\":\"A\",\n",
    "    \"UGC\":\"C\", \"UGU\":\"C\", \"GAC\":\"D\", \"GAU\":\"D\",\n",
    "    \"GAA\":\"E\", \"GAG\":\"E\", \"UUC\":\"F\", \"UUU\":\"F\",\n",
    "    \"GGA\":\"G\", \"GGC\":\"G\", \"GGG\":\"G\", \"GGU\":\"G\",\n",
    "    \"CAC\":\"H\", \"CAU\":\"H\", \"AUA\":\"I\", \"AUC\":\"I\",\n",
    "    \"AUU\":\"I\", \"AAA\":\"K\", \"AAG\":\"K\", \"UUA\":\"L\",\n",
    "    \"UUG\":\"L\", \"CUA\":\"L\", \"CUC\":\"L\", \"CUG\":\"L\",\n",
    "    \"CUU\":\"L\", \"AUG\":\"M\", \"AAC\":\"N\", \"AAU\":\"N\",\n",
    "    \"CCA\":\"P\", \"CCC\":\"P\" ,\"CCG\":\"P\", \"CCU\":\"P\",\n",
    "    \"CAA\":\"Q\", \"CAG\":\"Q\", \"AGA\":\"R\", \"AGG\":\"R\",\n",
    "    \"CGA\":\"R\", \"CGC\":\"R\", \"CGU\":\"R\", \"CGG\":\"R\",\n",
    "    \"AGC\":\"S\", \"AGU\":\"S\", \"UCA\":\"S\", \"UCC\":\"S\",\n",
    "    \"UCG\":\"S\", \"UCU\":\"S\", \"ACA\":\"T\", \"ACC\":\"T\",\n",
    "    \"ACG\":\"T\", \"ACU\":\"T\", \"GUA\":\"V\", \"GUC\":\"V\",\n",
    "    \"GUG\":\"V\", \"GUU\":\"V\", \"UGG\":\"W\", \"UAC\":\"Y\",\n",
    "    \"UAU\":\"Y\", \"UAG\":\"!\", \"UAA\":\"!\", \"UGA\":\"!\"\n",
    "}"
   ]
  },
  {
   "cell_type": "markdown",
   "metadata": {},
   "source": [
    "Converting a string to all uppercase is easy. The string-function `.upper()` does the trick."
   ]
  },
  {
   "cell_type": "code",
   "execution_count": null,
   "metadata": {},
   "outputs": [],
   "source": [
    "# Execute this cell to see the effect of the `.upper()` function.\n",
    "lowercase = \"plz, makez me all upper case - kthxbai!\"\n",
    "uppercase = lowercase.upper()\n",
    "print(uppercase)"
   ]
  },
  {
   "cell_type": "markdown",
   "metadata": {},
   "source": [
    "Replacing letters in a string is equally straightfoward with the `.replace('old','new')` function. (If you are in a complicated mood, you could also iterate over the string using a `for`-loop and use `if`-statements.)"
   ]
  },
  {
   "cell_type": "code",
   "execution_count": null,
   "metadata": {},
   "outputs": [],
   "source": [
    "# Execute this cell to see the effect of the replace function.\n",
    "bad_grammar = \"It was there football after all.\"\n",
    "proper_grammar = bad_grammar.replace('there','their')\n",
    "print(f\"Incorrect: {bad_grammar}\")\n",
    "print(f\"Correct: {proper_grammar}\")"
   ]
  },
  {
   "cell_type": "markdown",
   "metadata": {},
   "source": [
    "These string manipulation methods can also be chained together, e.g. `string.upper().replace('m','n')`. Now have a go at converting the coding sequence (`cds`) to uppercase RNA."
   ]
  },
  {
   "cell_type": "code",
   "execution_count": null,
   "metadata": {},
   "outputs": [],
   "source": [
    "# complete the code below to convert the coding sequence (`cds`) to uppercase RNA\n",
    "rna = ...\n",
    "print(rna)"
   ]
  },
  {
   "cell_type": "markdown",
   "metadata": {},
   "source": [
    "## Chopping RNA into codons\n",
    "\n",
    "Now that you have an RNA template, it's time to slice it into triplets of nucleotides (codons), which can then be translated into amino acids using the `codon_table` dictionary.\n",
    "\n",
    "Slicing is a fundamentally important operation in Python. The (most basic) slice syntax `vegetable[n:m]` will cut before the indices `n` and `m` in the slice operator; this means the `m`th index will not (!) be included in the slice. The indices may refer to characters in a string or items in a list, but slicing can be applied to many of Python's data structures. Remember that Python indexes begin with 0 for the first element."
   ]
  },
  {
   "cell_type": "code",
   "execution_count": null,
   "metadata": {},
   "outputs": [],
   "source": [
    "# Execute this cell to see slicing in action\n",
    "futurama = 'Bender is great'\n",
    "print(futurama[0:6]) # characters 0 to 5\n",
    "print(futurama[:6]) # from beginning of string to character 5\n",
    "print(futurama[7:]) # from character 7 to end of the string\n",
    "print(futurama[:]) # makes a copy (handy for creating copies of lists)\n",
    "print(futurama[:-1]) # one can also count from the back, here clipping off the last character\n",
    "print(futurama[::2]) # an optional third parameter is steplength ...\n",
    "print(futurama[::-1]) # ... which can be used to even reverse a string"
   ]
  },
  {
   "cell_type": "code",
   "execution_count": null,
   "metadata": {},
   "outputs": [],
   "source": [
    "# use this code cell have some fun with slicing"
   ]
  },
  {
   "cell_type": "markdown",
   "metadata": {},
   "source": [
    "Now that you are familiar with slicing, you can think about breaking the RNA sequence down into triplets. Doing this manually (`rna[0:3]`, `rna[4:6]`, ...) would be rather silly. So let's use a `for`-loop (though there's always more than one way to get to the cheezburger).\n",
    "\n",
    "Just a reminder about basic syntax of `for`-loops.\n",
    "\n",
    "```python\n",
    "for index in iterator:\n",
    "    # do stuff\n",
    "```\n",
    "\n",
    "Where iterator can a whole range of iterable data objects, such as the output of a the `range()` function."
   ]
  },
  {
   "cell_type": "code",
   "execution_count": null,
   "metadata": {},
   "outputs": [],
   "source": [
    "# Hint: the range function happily creates number every nth step.\n",
    "n = 4\n",
    "for i in range(0,50,n):\n",
    "    print(i, end=' ')"
   ]
  },
  {
   "cell_type": "code",
   "execution_count": null,
   "metadata": {},
   "outputs": [],
   "source": [
    "# edit code to slice RNA into triplets\n",
    "rna_length = len(rna)\n",
    "codons = [] # an empty list to store the codons\n",
    "for base_index in range(...,...,...):\n",
    "    # slicey-dicey using base_index\n",
    "    codon = ...\n",
    "    condons.append(codon)\n",
    "print(codons)"
   ]
  },
  {
   "cell_type": "markdown",
   "metadata": {},
   "source": [
    "## Translating codons into amino acids\n",
    "\n",
    "Using `codon_table` dictionary, individual codons can be decoded into the corresponding amino acids. Dictionaries contain information stored as `'key':'value'` pairs and values can be looked-up via the key: `my_dictionary['key']`."
   ]
  },
  {
   "cell_type": "code",
   "execution_count": null,
   "metadata": {},
   "outputs": [],
   "source": [
    "# This should return methionine (M)\n",
    "print(codon_table['AUG'])"
   ]
  },
  {
   "cell_type": "markdown",
   "metadata": {},
   "source": [
    "All that is left to do, is to iterate over the `codons` list with a `for`-loop and store the amino acids chain."
   ]
  },
  {
   "cell_type": "code",
   "execution_count": null,
   "metadata": {},
   "outputs": [],
   "source": [
    "# edit code to translate codons into amino acids\n",
    "protein = \"\" # an empty string to store the aa (could also use a list) \n",
    "for ...:\n",
    "    # concatenate dictionary output\n",
    "print(protein)"
   ]
  },
  {
   "cell_type": "markdown",
   "metadata": {},
   "source": [
    "## Make it functional\n",
    "\n",
    "So far we have only written Spaghetti code - one long script (well, broken up by comments). While this is fine for a short project as this, it quickly becomes hard to read, hard to edit, hard to debug: unmanagable. Organise your code into suitable function; e.g. one to load your file into a string, one to prepare your string for translation, one to translate your RNA string.\n",
    "\n",
    "Brief reminder: a function is a block of reusable code that is used to perform a single action, with the following syntax:\n",
    "\n",
    "```python\n",
    "def functionname( parameters ):\n",
    "   \"\"\"function_docstring tells others what this function does\"\"\"\n",
    "   # do something\n",
    "   return something_else\n",
    "```"
   ]
  },
  {
   "cell_type": "code",
   "execution_count": null,
   "metadata": {},
   "outputs": [],
   "source": [
    "# load file\n",
    "def file_to_string (filename):\n",
    "    \"\"\"Loads a textfile of DNA sequence, strips any right side\n",
    "    white spaces and returns the sequence as a string\"\"\"\n",
    "    ..."
   ]
  },
  {
   "cell_type": "code",
   "execution_count": null,
   "metadata": {},
   "outputs": [],
   "source": [
    "# upper case and RNA\n",
    "def dna_to_upper_rna (dna):\n",
    "    \"\"\"Converts a string of DNA into uppercase RNA\"\"\"\n",
    "    ..."
   ]
  },
  {
   "cell_type": "code",
   "execution_count": null,
   "metadata": {},
   "outputs": [],
   "source": [
    "# translate RNA\n",
    "def translate_rna (rna):\n",
    "    \"\"\"Translates a string of uppercase RNA\n",
    "    returns a string of amino acids\"\"\"\n",
    "    ..."
   ]
  },
  {
   "cell_type": "code",
   "execution_count": null,
   "metadata": {},
   "outputs": [],
   "source": [
    "# call the functions\n",
    "cds = file_to_string('cds_adora1.txt')\n",
    "rna = dna_to_upper_rna(cds)\n",
    "protein = translate_rna(rna)\n",
    "print (protein)"
   ]
  },
  {
   "cell_type": "markdown",
   "metadata": {},
   "source": [
    "## Not for the faint-hearted: list comprehension makes this super-short\n",
    "\n",
    "Below are 2-ish lines of code, which carry out the same operation you just pieced together. How? List comprehension and method chaining. Have a read on [list comprehension in the Python documentation](https://docs.python.org/3/tutorial/datastructures.html#list-comprehensions) and see whether you can make sense of the code below. Have a play with list comprehension and replace some of the `for`-loops of the code you have previously written."
   ]
  },
  {
   "cell_type": "code",
   "execution_count": null,
   "metadata": {},
   "outputs": [],
   "source": [
    "# everything in a few lines (not counting the codon table)\n",
    "with open('cds_adora1.txt','r') as file:\n",
    "    rna = ''.join([line.rstrip().upper().replace('T','U') for line in file.readlines()])\n",
    "protein = ''.join([codon_table[rna[i:i+3]] for i in range(0, len(rna), 3)])\n",
    "print(protein)"
   ]
  }
 ],
 "metadata": {
  "kernelspec": {
   "display_name": "Python 3",
   "language": "python",
   "name": "python3"
  },
  "language_info": {
   "codemirror_mode": {
    "name": "ipython",
    "version": 3
   },
   "file_extension": ".py",
   "mimetype": "text/x-python",
   "name": "python",
   "nbconvert_exporter": "python",
   "pygments_lexer": "ipython3",
   "version": "3.7.2"
  }
 },
 "nbformat": 4,
 "nbformat_minor": 1
}
