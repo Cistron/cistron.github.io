{
 "cells": [
  {
   "cell_type": "markdown",
   "metadata": {},
   "source": [
    "# QIIME2 exploratory data analysis workshop\n",
    "\n",
    "This workshop will guide you through a basic data processing pipeline using QIIME2 on a microbiome dataset. A large proportion will be exploratory data analysis, followed by some more specific statistical analysis and plotting of data.\n",
    "\n",
    "By-and-large this workshop follows the steps in the [QIIME2 overview tutorial \"moving pictures\"](https://docs.qiime2.org/2019.7/tutorials/moving-pictures/). There are many more tutorials available on the [QIIME2 tutorial website](https://docs.qiime2.org/2019.7/tutorials/).\n",
    "\n",
    "## Some basic QIIME2 concepts\n",
    "\n",
    "For a detailed overview of QIIME2's concepts, [please consult the excellent documentation](https://docs.qiime2.org/2019.7/concepts/).\n",
    "\n",
    "QIIME2 only handles most \"raw\" data (such as FASTQ files) on import and bundles data into `.qza` files - QIIME zipped *artifact*. In addition to the actual data, this includes meta-information, such as type of data and provenance.\n",
    "\n",
    "*Visualisations* on the other hand are wrapped in `.qzv` files - QIIME zipped *visualisation*, with similar meta-information as *artifacts*. *Visualisation* files are usually the terminal output of a process or analysis.\n",
    "\n",
    "QIIME2's extensive functionality is built with *plugins*. Each *plugin* might wrap specific programmes in other programming languages (such as C or Fortran) and generally fullfills one aspect of data processing or analysis. You can find a [full list of QIIME2 plugins on the website](https://docs.qiime2.org/2019.7/plugins/available/). Throughout this workshop you will also find links to corresponding tutorials.\n",
    "\n",
    "The structure of QIIME2 commands is always similar, starting with `qiime` followed by the *plugin* name and several flags for options and file input or outputs. You can access the documentation by adding the `--help` flag, e.g."
   ]
  },
  {
   "cell_type": "code",
   "execution_count": null,
   "metadata": {},
   "outputs": [],
   "source": [
    "!qiime tools import --help"
   ]
  },
  {
   "cell_type": "markdown",
   "metadata": {},
   "source": [
    "Note the exclaimation point (`!`) at the beginning of the command. This invokes the command as a `shell` operation rather than the default Python. Alternatively, you can use `%%bash` at the top of the cell to turn the cell into a `shell/bash` script.\n",
    "\n",
    "You will frequently find `%%time` throughout this workshop, which will give you and idea how long it takes to execute code."
   ]
  },
  {
   "cell_type": "markdown",
   "metadata": {},
   "source": [
    "## Viewing *Visualisations* in Jupyter\n",
    "\n",
    "*Visualisations* can be viewed with a QIIME view plugin, however, as we are working on a supercomputer, a so called 'headless' system without a graphic user interfact. Hence, throughout the analysis, we will do a little work-around using QIIME's `Visualization` Python package (note the American spelling).\n",
    "\n",
    "We will therefore need to import the package."
   ]
  },
  {
   "cell_type": "code",
   "execution_count": null,
   "metadata": {},
   "outputs": [],
   "source": [
    "from qiime2 import Visualization"
   ]
  },
  {
   "cell_type": "markdown",
   "metadata": {},
   "source": [
    "*Visualisation* files can then be loaded through a Python command:\n",
    "\n",
    "```python\n",
    "Visualization.load('visualisation-file.qzv')\n",
    "```\n",
    "\n",
    "This will load the *Visualisation* in the output for the corresponding cell. Each *Visualisation* will also have an \"open in new window\" link to display the output in a new window/tab.\n",
    "\n",
    "## The dataset and metadata\n",
    "\n",
    "You will analyse an oral microbiome dataset. A total of 12 samples were collected by swabing the mouth between 8:00 and 18:00; one before brushing teeth, then hourly. The subject was a 21 year old male with good dental health on a vegan diet.\n",
    "\n",
    "All metadata for this experiment has been [colated in a spreadsheet](https://docs.google.com/spreadsheets/d/1kdIW4xIxysbf0zQBzO4Y65B9sfaeTZywZ1CrMwWMd9k/edit?usp=sharing). Metadata files follow specific formatting rules (https://docs.qiime2.org/2019.7/tutorials/metadata/) and data included in the files can be used in some of the analyses by QIIME2.\n",
    "\n",
    "To validate the metadata format, you can either use a QIIME2 plugin, or, more conveniently, use a Google sheets plugin called `Keemei` (Add-ons > Get Add-ons in the menu). Once validated, export the file as a tab-separated value (`.tsv`) file (under File > Download in the menu) and upload it to your working directory (drag and drop onto the files panel of Jupyter)."
   ]
  },
  {
   "cell_type": "markdown",
   "metadata": {},
   "source": [
    "## Importing data with manifest\n",
    "\n",
    "https://docs.qiime2.org/2019.7/tutorials/importing/\n",
    "\n",
    "You will work a fraction (~5%) of the total dataset for this particular experiment (about a 1/400th of a full HiSeq run) to reduce computation time.\n",
    "\n",
    "Let's copy the data to your working directory."
   ]
  },
  {
   "cell_type": "code",
   "execution_count": null,
   "metadata": {},
   "outputs": [],
   "source": [
    "!cp -rv /home/mbaron/qiime2_workshop/pe-reads/ ."
   ]
  },
  {
   "cell_type": "markdown",
   "metadata": {},
   "source": [
    "Each of the samples is represented by one forward and one reverse read `.fastq` file - paired end reads. This means the data is already demultiplexed. The `manifest.txt` file in the `pe-reads` folder contains the sample ids and the file paths to each of the files.\n",
    "\n",
    "To import the data as an *artifact*, `tools import` needs to be informed about the type of data (paired end sequences with quality information), the encoding of the quality scores (can be found in `metadata.yml`) and the filepaths through the manifest.\n",
    "\n",
    "The import process will take a couple of seconds to a minute and create a `.qza` file."
   ]
  },
  {
   "cell_type": "code",
   "execution_count": null,
   "metadata": {},
   "outputs": [],
   "source": [
    "%%time\n",
    "!qiime tools import \\\n",
    "    --type 'SampleData[PairedEndSequencesWithQuality]' \\\n",
    "    --input-path pe-reads/manifest.txt \\\n",
    "    --output-path demux \\\n",
    "    --input-format PairedEndFastqManifestPhred33V2"
   ]
  },
  {
   "cell_type": "markdown",
   "metadata": {},
   "source": [
    "You can take a brief look at the file type and format using `tools peek`."
   ]
  },
  {
   "cell_type": "code",
   "execution_count": null,
   "metadata": {},
   "outputs": [],
   "source": [
    "%%time\n",
    "!qiime tools peek demux.qza"
   ]
  },
  {
   "cell_type": "markdown",
   "metadata": {},
   "source": [
    "### Visualising demultiplexed data\n",
    "\n",
    "Once the data is imported, we can visualise the quality score information by creating a `.qzv` file. There are lots of different visualisation methods associated with different `.qza` files (see [available plugins](https://docs.qiime2.org/2019.7/plugins/available/)). `demux summarize` will provide you with an overview of sequences for each sample and an interactive chart displaying quality scores vs sequence length.\n",
    "\n",
    "Do you see a marked drop in sequence quality?"
   ]
  },
  {
   "cell_type": "code",
   "execution_count": null,
   "metadata": {},
   "outputs": [],
   "source": [
    "%%time\n",
    "!qiime demux summarize \\\n",
    "    --i-data demux.qza \\\n",
    "    --o-visualization demux.qzv"
   ]
  },
  {
   "cell_type": "code",
   "execution_count": null,
   "metadata": {},
   "outputs": [],
   "source": [
    "Visualization.load('demux.qzv')"
   ]
  },
  {
   "cell_type": "markdown",
   "metadata": {},
   "source": [
    "## Picking Amplicon Sequence Variants (ASV) with Deblur\n",
    "\n",
    "The [Deblur](http://msystems.asm.org/content/2/2/e00191-16) algorithm uses error profiles to denoise the sequencing data and find true biological variants. We will quality filter our data by first by joining the paired-end reads. Any remaining low-quality read are removed a Q-score based filtering approach (as described in the lecture).\n",
    "\n",
    "### Joining paired-end reads\n",
    "\n",
    "https://docs.qiime2.org/2019.7/plugins/available/vsearch/join-pairs/\n",
    "\n",
    "The expected size of the region amplified by the 515f and 806r primers is close to 250bp. As the data was generated by a HiSeq Rapid-Run with 250bp reads, the overlap between forward and reverse sequences is likely substaintial. `-p-minovlen` describes the minimum overlap between the reads, while `-p-maxdiffs` sets how many differences are tolerated. The default settings of the `vsearch` algorithm are rather lax, so the overlap was set to a minimum of 50bp (which would allow a total length of 450bp); no differences were tolerated."
   ]
  },
  {
   "cell_type": "code",
   "execution_count": null,
   "metadata": {},
   "outputs": [],
   "source": [
    "%%time\n",
    "!qiime vsearch join-pairs \\\n",
    "    --i-demultiplexed-seqs demux.qza \\\n",
    "    --output-dir joined \\\n",
    "    --p-minovlen 50 \\\n",
    "    --p-maxdiffs 0"
   ]
  },
  {
   "cell_type": "code",
   "execution_count": null,
   "metadata": {},
   "outputs": [],
   "source": [
    "%%time\n",
    "!qiime demux summarize \\\n",
    "    --i-data joined/joined_sequences.qza \\\n",
    "    --o-visualization joined/joined_sequences.qzv"
   ]
  },
  {
   "cell_type": "code",
   "execution_count": null,
   "metadata": {},
   "outputs": [],
   "source": [
    "Visualization.load('joined/joined_sequences.qzv')"
   ]
  },
  {
   "cell_type": "markdown",
   "metadata": {},
   "source": [
    "### Quality filtering by Q-score\n",
    "\n",
    "https://docs.qiime2.org/2019.7/plugins/available/quality-filter/q-score-joined/"
   ]
  },
  {
   "cell_type": "code",
   "execution_count": null,
   "metadata": {},
   "outputs": [],
   "source": [
    "%%time\n",
    "!qiime quality-filter q-score-joined \\\n",
    "    --i-demux joined/joined_sequences.qza \\\n",
    "    --output-dir filtered"
   ]
  },
  {
   "cell_type": "code",
   "execution_count": null,
   "metadata": {},
   "outputs": [],
   "source": [
    "%%time\n",
    "!qiime demux summarize \\\n",
    "    --i-data filtered/filtered_sequences.qza \\\n",
    "    --o-visualization filtered/filtered_sequences.qzv"
   ]
  },
  {
   "cell_type": "code",
   "execution_count": null,
   "metadata": {},
   "outputs": [],
   "source": [
    "Visualization.load('filtered/filtered_sequences.qzv')"
   ]
  },
  {
   "cell_type": "code",
   "execution_count": null,
   "metadata": {},
   "outputs": [],
   "source": [
    "%%time\n",
    "!qiime metadata tabulate \\\n",
    "  --m-input-file filtered/filter_stats.qza \\\n",
    "  --o-visualization filtered/filter_stats.qzv"
   ]
  },
  {
   "cell_type": "code",
   "execution_count": null,
   "metadata": {},
   "outputs": [],
   "source": [
    "Visualization.load('filtered/filter_stats.qzv')"
   ]
  },
  {
   "cell_type": "markdown",
   "metadata": {},
   "source": [
    "### Deblur\n",
    "\n",
    "https://docs.qiime2.org/2019.7/plugins/available/deblur/denoise-16S/\n",
    "\n",
    "With larger datasets, the actual Deblur step can be very time-consuming. With the current relatively small dataset, it should complete with a few minutes on the supercomputer.\n",
    "\n",
    "This script can run in parallel on several CPU cores by using the `--p-jobs-to-start` flag. You will come across other plugins, which can also be parallelised, though the flags might be called differently, containg works like `threads` or `cores`. The majority of Cartesius compute nodes have 24 cores available.\n",
    "\n",
    "The output is a feature table, statistics on the denoising and ASV-picking process as well as a file only containing key representative sequences (ASVs). The representative sequences, as a smaller file, allow faster construction of a phylogenetic tree or assignment of taxonomy."
   ]
  },
  {
   "cell_type": "code",
   "execution_count": null,
   "metadata": {},
   "outputs": [],
   "source": [
    "%%time\n",
    "!qiime deblur denoise-16S \\\n",
    "    --i-demultiplexed-seqs filtered/filtered_sequences.qza \\\n",
    "    --p-trim-length 251 \\\n",
    "    --output-dir deblur \\\n",
    "    --p-sample-stats \\\n",
    "    --p-jobs-to-start 24"
   ]
  },
  {
   "cell_type": "code",
   "execution_count": null,
   "metadata": {},
   "outputs": [],
   "source": [
    "%%time\n",
    "!qiime deblur visualize-stats \\\n",
    "    --i-deblur-stats deblur/stats.qza \\\n",
    "    --o-visualization deblur/stats.qzv"
   ]
  },
  {
   "cell_type": "code",
   "execution_count": null,
   "metadata": {},
   "outputs": [],
   "source": [
    "Visualization.load('deblur/stats.qzv')"
   ]
  },
  {
   "cell_type": "markdown",
   "metadata": {},
   "source": [
    "## Assigning taxonomy using the [Human Oral Microbiome Database (HOMD)](http://www.homd.org/index.php)\n",
    "\n",
    "https://docs.qiime2.org/2019.7/tutorials/feature-classifier/\n",
    "\n",
    "There are many references databases, some of the more popular general references, such as GreenGenes and Silva, can be found through the [QIIME data resources page](https://docs.qiime2.org/2019.7/data-resources/).\n",
    "\n",
    "Using a more specialised a database has the advantage of more reliable and accurate taxonomy assignment. More specialised databases are usually smaller and allowing faster processing."
   ]
  },
  {
   "cell_type": "markdown",
   "metadata": {},
   "source": [
    "### Importing HOMD data\n",
    "\n",
    "Two files are required to build a taxonomy classifier, the references sequences in `.fasta` format and text-file file liking the reference IDs with taxa. Both these files can be found on [HOMD ftp download pages for their 16S rRNA references](http://www.homd.org/ftp/16S_rRNA_refseq/HOMD_16S_rRNA_RefSeq/V15.2/). Let's make a new directory and download them directly using `wget`."
   ]
  },
  {
   "cell_type": "code",
   "execution_count": null,
   "metadata": {},
   "outputs": [],
   "source": [
    "!mkdir homd\n",
    "!wget -P homd \"http://www.homd.org/ftp/16S_rRNA_refseq/HOMD_16S_rRNA_RefSeq/V15.2/HOMD_16S_rRNA_RefSeq_V15.2.fasta\"\n",
    "!wget -P homd \"http://www.homd.org/ftp/16S_rRNA_refseq/HOMD_16S_rRNA_RefSeq/V15.2/HOMD_16S_rRNA_RefSeq_V15.2.qiime.taxonomy\""
   ]
  },
  {
   "cell_type": "markdown",
   "metadata": {},
   "source": [
    "For importing, `tools import` does the job. Note that we specifying different `--type` for each of the imports."
   ]
  },
  {
   "cell_type": "code",
   "execution_count": null,
   "metadata": {},
   "outputs": [],
   "source": [
    "%%time\n",
    "# importing HOMD data\n",
    "!qiime tools import \\\n",
    "    --type 'FeatureData[Sequence]' \\\n",
    "    --input-path homd/HOMD_16S_rRNA_RefSeq_V15.2.fasta \\\n",
    "    --output-path homd/HOMD_16S_rRNA_RefSeq_V15.2"
   ]
  },
  {
   "cell_type": "code",
   "execution_count": null,
   "metadata": {},
   "outputs": [],
   "source": [
    "%%time\n",
    "!qiime tools import \\\n",
    "    --type 'FeatureData[Taxonomy]' \\\n",
    "    --input-format HeaderlessTSVTaxonomyFormat \\\n",
    "    --input-path homd/HOMD_16S_rRNA_RefSeq_V15.2.qiime.taxonomy \\\n",
    "    --output-path homd/HOMD_16S_rRNA_RefSeq_V15.2.qiime.taxonomy"
   ]
  },
  {
   "cell_type": "markdown",
   "metadata": {},
   "source": [
    "### Trimming references with primer sequences\n",
    "\n",
    "https://docs.qiime2.org/2019.7/plugins/available/feature-classifier/extract-reads/\n",
    "\n",
    "Trimming the reference database to the region of interest (in our case between 515f and 806r), also ensure more reliable assignment of taxonomy. To do so, the plugin requires the annealing regions of both primer sequences (note the degenerate bases e.g `M`) and minimum and maximum expected sequence lengths. As the region should be around 250 bp, a minimum length of 100 bp and a maximum length of 400 bp should reduce spurious sequences."
   ]
  },
  {
   "cell_type": "code",
   "execution_count": null,
   "metadata": {},
   "outputs": [],
   "source": [
    "%%time\n",
    "## extracting reads according to primers\n",
    "!qiime feature-classifier extract-reads \\\n",
    "    --i-sequences homd/HOMD_16S_rRNA_RefSeq_V15.2.qza \\\n",
    "    --p-f-primer GTGCCAGCMGCCGCGGTAA \\\n",
    "    --p-r-primer GGACTACHVGGGTWTCTAAT \\\n",
    "    --p-min-length 100 \\\n",
    "    --p-max-length 400 \\\n",
    "    --o-reads homd/HOMD_16S_rRNA_RefSeq_V15.2_trimmed.qza"
   ]
  },
  {
   "cell_type": "markdown",
   "metadata": {},
   "source": [
    "### Assigning taxonomy\n",
    "\n",
    "https://docs.qiime2.org/2019.7/plugins/available/feature-classifier/classify-consensus-vsearch/\n",
    "\n",
    "VSEARCH is used to align our query sequences (remember the representative sequences generated by Deblur?) with the reference and assign taxonomy."
   ]
  },
  {
   "cell_type": "code",
   "execution_count": null,
   "metadata": {},
   "outputs": [],
   "source": [
    "%%time\n",
    "!qiime feature-classifier classify-consensus-vsearch \\\n",
    "    --i-query deblur/representative_sequences.qza \\\n",
    "    --i-reference-reads homd/HOMD_16S_rRNA_RefSeq_V15.2_trimmed.qza \\\n",
    "    --i-reference-taxonomy homd/HOMD_16S_rRNA_RefSeq_V15.2.qiime.taxonomy.qza \\\n",
    "    --output-dir taxonomy \\\n",
    "    --p-threads 24"
   ]
  },
  {
   "cell_type": "markdown",
   "metadata": {},
   "source": [
    "### Taxa bar-plot\n",
    "\n",
    "https://docs.qiime2.org/2019.7/plugins/available/taxa/barplot/\n",
    "\n",
    "A convenient way to visualise taxonomy is through stacked bar-charts. Do you see any trends in any taxa throughout the day? We'll get back to the taxonomy data later."
   ]
  },
  {
   "cell_type": "code",
   "execution_count": null,
   "metadata": {},
   "outputs": [],
   "source": [
    "%%time\n",
    "!qiime taxa barplot \\\n",
    "    --i-table deblur/table.qza \\\n",
    "    --i-taxonomy taxonomy/classification.qza \\\n",
    "    --m-metadata-file oral_microbiome.tsv \\\n",
    "    --o-visualization taxonomy/bar-plot.qzv"
   ]
  },
  {
   "cell_type": "code",
   "execution_count": null,
   "metadata": {},
   "outputs": [],
   "source": [
    "Visualization.load('taxonomy/bar-plot.qzv')"
   ]
  },
  {
   "cell_type": "markdown",
   "metadata": {},
   "source": [
    "## Generating a phylogenetic tree\n",
    "\n",
    "https://docs.qiime2.org/2019.7/plugins/available/phylogeny/align-to-tree-mafft-fasttree/\n",
    "\n",
    "Several phylogeny-based diversity metrics require a phylogenetic tree. This pipeline method will align all the sequences, denoise the data and construct both a rooted and unrooted phylogenetic tree. Again, using only the representative sequences speeds up this process."
   ]
  },
  {
   "cell_type": "code",
   "execution_count": null,
   "metadata": {},
   "outputs": [],
   "source": [
    "%%time\n",
    "!qiime phylogeny align-to-tree-mafft-fasttree \\\n",
    "    --i-sequences deblur/representative_sequences.qza \\\n",
    "    --p-n-threads 24 \\\n",
    "    --output-dir phylogeny"
   ]
  },
  {
   "cell_type": "markdown",
   "metadata": {},
   "source": [
    "### Visualise phylogentic tree\n",
    "\n",
    "QIIME2 doesn't yet have plugins to visualise phylogenetic trees. If you like to see the tree, download your `phylogeny/tree.qza` file (right-click on the file in the file panel and download) and upload it to [Interactive Tree Of Life](https://itol.embl.de/upload.cgi), a tool by maintained by the EMBL.\n",
    "\n",
    "For full annotation of the leafs, also download `taxonomy/classification.qza` and drag and drop the file onto the tree. The [iTOL help pages list several other QIIME2 artifacts which can be applied to the tree](https://itol.embl.de/help.cgi#qiime)."
   ]
  },
  {
   "cell_type": "markdown",
   "metadata": {},
   "source": [
    "## Alpha and beta diversity\n",
    "\n",
    "https://docs.qiime2.org/2019.7/plugins/available/diversity/core-metrics-phylogenetic/\n",
    "\n",
    "The core metrics pipeline is a handy tool to generate a whole array of alpha and beta diversity metrics. [This excellent post on the QIIME2 forum](https://forum.qiime2.org/t/alpha-and-beta-diversity-explanations-and-commands/2282) gives a brief overview with papers for each available metric. As mentioned in the lecture, there are many metrics, many of which originating form the much older field of echology. Given that we work with sequencing data you might want to focus at first on phylogenetic metrics, such as [Faith's Phylogenetic Distance](https://en.wikipedia.org/wiki/Phylogenetic_diversity) for alpha diversity and UniFrac for beta diversity.\n",
    "\n",
    "The pipeline required a rooted phylogenetic tree, the feature table, the meta-data file, as well as a sampling-depth parameter. Each sample will be randomly subsampled (rarefied) to the depth of `--p-sampling-depth` to ensure even representation. Any sample smaller than the sampling depth will be excluded. Consequently, this is a tradeoff between depth of the analysis and number of samples retained.\n",
    "\n",
    "You need to check your visualisation of the Deblur-statistics for sampling depth. Sort the data by the `read-hit-reference`. Is there a large difference between the most and least numerous sample?"
   ]
  },
  {
   "cell_type": "code",
   "execution_count": null,
   "metadata": {},
   "outputs": [],
   "source": [
    "%%time\n",
    "!qiime diversity core-metrics-phylogenetic \\\n",
    "    --i-phylogeny phylogeny/rooted_tree.qza \\\n",
    "    --i-table deblur/table.qza \\\n",
    "    --p-sampling-depth 18435 \\\n",
    "    --m-metadata-file oral_microbiome.tsv \\\n",
    "    --output-dir alpha_beta \\\n",
    "    --p-n-jobs 24"
   ]
  },
  {
   "cell_type": "markdown",
   "metadata": {},
   "source": [
    "[Ordination](https://en.wikipedia.org/wiki/Ordination_(statistics)) is a popular tool to explore microbial communities. We can use the [Emperor tool](https://biocore.github.io/emperor/description_index.html) to inspect [principal coordinate analysis (PCoA)](https://moodle.ucl.ac.uk/mod/page/view.php?id=988175) plots. Due to a bug in the QIIME2 implementations data labels can not be set, however when you click on a sample point, its label is revealed in the bottom left corner of the plot."
   ]
  },
  {
   "cell_type": "code",
   "execution_count": null,
   "metadata": {},
   "outputs": [],
   "source": [
    "Visualization.load('alpha_beta/jaccard_emperor.qzv')"
   ]
  },
  {
   "cell_type": "markdown",
   "metadata": {},
   "source": [
    "### Alpha diversity correlation"
   ]
  },
  {
   "cell_type": "markdown",
   "metadata": {},
   "source": [
    "https://docs.qiime2.org/2019.7/plugins/available/diversity/alpha-correlation/\n",
    "\n",
    "Given that this dataset is a time-series, it makes sense to look for correlation over time. The alpha-correlation method will determine whether any numeric data provided in the metadata file are correlated with alpha diversity. By default it will apply a [Spearman's rank correlation test](https://statistics.laerd.com/spss-tutorials/spearmans-rank-order-correlation-using-spss-statistics.php), generate a correlation coefficient (-1 to 1) and a p-value. Is the correlation significant?"
   ]
  },
  {
   "cell_type": "code",
   "execution_count": null,
   "metadata": {},
   "outputs": [],
   "source": [
    "%%time\n",
    "!qiime diversity alpha-correlation \\\n",
    "  --i-alpha-diversity alpha_beta/faith_pd_vector.qza \\\n",
    "  --m-metadata-file oral_microbiome.tsv \\\n",
    "  --o-visualization alpha_beta/faith_pd_correlation"
   ]
  },
  {
   "cell_type": "code",
   "execution_count": null,
   "metadata": {},
   "outputs": [],
   "source": [
    "Visualization.load('alpha_beta/faith_pd_correlation.qzv')"
   ]
  },
  {
   "cell_type": "markdown",
   "metadata": {},
   "source": [
    "### Alpha rarefaction curves\n",
    "\n",
    "https://docs.qiime2.org/2019.7/plugins/available/diversity/alpha-rarefaction/\n",
    "\n",
    "Rarefaction curves are generated by randomly sub-sampling data from each sample at increasing depth (up to `-p-max-depth`). Each sub-sampling is repeated several times (default: 10) and alpha diversity metric are calculated. As the sampling depth increases, so should the diversity indices. If the curves plateau or level out, increasing sequencing depth would unlikely increase the number of features deteced.\n",
    "\n",
    "Hence, alpha rarefaction curves are a tool to determine whether most of the diversity had been captured through sequencing."
   ]
  },
  {
   "cell_type": "code",
   "execution_count": null,
   "metadata": {},
   "outputs": [],
   "source": [
    "%%time\n",
    "!qiime diversity alpha-rarefaction \\\n",
    "    --i-table deblur/table.qza \\\n",
    "    --i-phylogeny phylogeny/rooted_tree.qza \\\n",
    "    --p-max-depth 18435 \\\n",
    "    --m-metadata-file oral_microbiome.tsv \\\n",
    "    --p-steps 20 \\\n",
    "    --o-visualization alpha_beta/rarefaction"
   ]
  },
  {
   "cell_type": "code",
   "execution_count": null,
   "metadata": {},
   "outputs": [],
   "source": [
    "Visualization.load('alpha_beta/rarefaction.qzv')"
   ]
  },
  {
   "cell_type": "markdown",
   "metadata": {},
   "source": [
    "## Further correlation analysis of taxonomic data with Python\n",
    "\n",
    "The significant decrease in alpha diversity throughout the day suggests that taxa change significantly throughout the day. Usually a drop in diversity is associated with some taxa increasing relative abundance, ie. outcompeting others.\n",
    "\n",
    "What better way to test this than with a few quick correlation tests in Python through the [Pandas](https://pandas.pydata.org/) packages.\n",
    "\n",
    "First we'll export the bar-plot data and import with Pandas."
   ]
  },
  {
   "cell_type": "code",
   "execution_count": null,
   "metadata": {},
   "outputs": [],
   "source": [
    "%%time\n",
    "!qiime tools export \\\n",
    "    --input-path taxonomy/bar-plot.qzv \\\n",
    "    --output-path taxonomy/bar-plot"
   ]
  },
  {
   "cell_type": "code",
   "execution_count": null,
   "metadata": {},
   "outputs": [],
   "source": [
    "# loading pandas package\n",
    "import pandas as pd\n",
    "# jupyter magic to display plots inline\n",
    "%matplotlib inline"
   ]
  },
  {
   "cell_type": "code",
   "execution_count": null,
   "metadata": {},
   "outputs": [],
   "source": [
    "# loading data into a Pandas dataframe\n",
    "# 'time' is set as the row-index column, times are parsed by Python\n",
    "df = pd.read_csv('taxonomy/bar-plot/level-6.csv',index_col='time',parse_dates=True)"
   ]
  },
  {
   "cell_type": "code",
   "execution_count": null,
   "metadata": {},
   "outputs": [],
   "source": [
    "# sorting data by index (inplace to overwrite dataframe)\n",
    "df.sort_index(inplace=True)\n",
    "# rows are now sorted by time / sample\n",
    "df.index"
   ]
  },
  {
   "cell_type": "code",
   "execution_count": null,
   "metadata": {},
   "outputs": [],
   "source": [
    "# provides overview of dataframe\n",
    "print(df.info())\n",
    "# shows first couple of rows of dataframe\n",
    "df.head()"
   ]
  },
  {
   "cell_type": "code",
   "execution_count": null,
   "metadata": {},
   "outputs": [],
   "source": [
    "# data is in absolute counts\n",
    "# to get relative abundances, the data needs to be normalised\n",
    "# create a selector for the columns (in this case for the first and last taxonomy column in the dataframe)\n",
    "start, end = df.columns.get_indexer(['Unassigned;__;__;__;__;__','k__Bacteria;p__Spirochaetes;c__Spirochaetia;o__Spirochaetales;f__Spirochaetaceae;g__Treponema'])\n",
    "taxa_columns = df.columns[start:end]\n",
    "df['all'] = df.loc[:,taxa_columns].sum(axis=1)\n",
    "# divide each taxonomy count by the total value, mulitply by 100\n",
    "df.loc[:,taxa_columns] = df.loc[:,taxa_columns].div(df['all'],axis=0).mul(100,axis=0)"
   ]
  },
  {
   "cell_type": "code",
   "execution_count": null,
   "metadata": {},
   "outputs": [],
   "source": [
    "df.head()"
   ]
  },
  {
   "cell_type": "code",
   "execution_count": null,
   "metadata": {},
   "outputs": [],
   "source": [
    "# lets create a quick plot to visualise how taxa are changing over time\n",
    "# the legend is hidden, as it would just cover the whole plot\n",
    "df.plot(x = 'time-past-brushing-hours', y = taxa_columns, legend=False)"
   ]
  },
  {
   "cell_type": "code",
   "execution_count": null,
   "metadata": {},
   "outputs": [],
   "source": [
    "# It appears that some taxa change quite significantly\n",
    "# Let's figure out which ones change the most with a few quick operations\n",
    "# Here we calulate the difference between maximum and mimium for each column and sort them\n",
    "abund_changes = (df[taxa_columns].max(axis=0)-df[taxa_columns].min(axis=0))\n",
    "abund_changes.sort_values(ascending=False).head(10)"
   ]
  },
  {
   "cell_type": "code",
   "execution_count": null,
   "metadata": {},
   "outputs": [],
   "source": [
    "# it appears that Streptococcus and Neisseria experience quite some swing throughout the day\n",
    "# let's see whether their correlation coefficients are also reasonably large\n",
    "# with the .corrwith function we can correlate several data series (columns) with another\n",
    "corr_coeff = df[taxa_columns].corrwith(df['time-past-brushing-hours'])\n",
    "# putting both series into one dataframe for easier intepretation\n",
    "df2 = pd.concat([abund_changes, corr_coeff],axis=1)\n",
    "df2.sort_values(by=0,ascending=False).head(10)"
   ]
  },
  {
   "cell_type": "code",
   "execution_count": null,
   "metadata": {},
   "outputs": [],
   "source": [
    "# This looks promising, let's plot some of the data to visualise\n",
    "df.plot(x='time-past-brushing-hours', y = 'k__Bacteria;p__Firmicutes;c__Bacilli;o__Lactobacillales;f__Streptococcaceae;g__Streptococcus', kind='line')\n",
    "df.plot(x='time-past-brushing-hours', y = 'k__Bacteria;p__Proteobacteria;c__Betaproteobacteria;o__Neisseriales;f__Neisseriaceae;g__Neisseria', kind='line')\n",
    "df.plot(x='time-past-brushing-hours', y = 'k__Bacteria;p__Proteobacteria;c__Betaproteobacteria;o__Burkholderiales;__;__', kind='line')"
   ]
  },
  {
   "cell_type": "markdown",
   "metadata": {},
   "source": [
    "Simple correlation analysis can be done directly on the dataframe"
   ]
  },
  {
   "cell_type": "code",
   "execution_count": null,
   "metadata": {},
   "outputs": [],
   "source": [
    "# For more a thorough correlation analysis we need to import the stats package from scientific python (scipy)\n",
    "from scipy import stats"
   ]
  },
  {
   "cell_type": "code",
   "execution_count": null,
   "metadata": {},
   "outputs": [],
   "source": [
    "# we can now carry out individual correlation tests on each of the top 3 taxa\n",
    "# this will also provide a p-value\n",
    "R, p = stats.pearsonr(df['k__Bacteria;p__Firmicutes;c__Bacilli;o__Lactobacillales;f__Streptococcaceae;g__Streptococcus'],df['time-past-brushing-hours'])\n",
    "print(f'The correlation coefficient is: {R}')\n",
    "print(f'The p-value is: {p}')\n",
    "stats.spearmanr(df['k__Bacteria;p__Firmicutes;c__Bacilli;o__Lactobacillales;f__Streptococcaceae;g__Streptococcus'],df['time-past-brushing-hours'])"
   ]
  },
  {
   "cell_type": "code",
   "execution_count": null,
   "metadata": {},
   "outputs": [],
   "source": [
    "R, p = stats.pearsonr(df['k__Bacteria;p__Proteobacteria;c__Betaproteobacteria;o__Neisseriales;f__Neisseriaceae;g__Neisseria'],df['time-past-brushing-hours'])\n",
    "print(f'The correlation coefficient is: {R}')\n",
    "print(f'The p-value is: {p}')\n",
    "# or a non-parametric correlation test\n",
    "stats.spearmanr(df['k__Bacteria;p__Proteobacteria;c__Betaproteobacteria;o__Neisseriales;f__Neisseriaceae;g__Neisseria'],df['time-past-brushing-hours'])"
   ]
  },
  {
   "cell_type": "code",
   "execution_count": null,
   "metadata": {},
   "outputs": [],
   "source": [
    "R, p = stats.pearsonr(df['k__Bacteria;p__Proteobacteria;c__Betaproteobacteria;o__Burkholderiales;__;__'],df['time-past-brushing-hours'])\n",
    "print(f'The correlation coefficient is: {R}')\n",
    "print(f'The p-value is: {p}')\n",
    "# or a non-parametric correlation test\n",
    "stats.spearmanr(df['k__Bacteria;p__Proteobacteria;c__Betaproteobacteria;o__Burkholderiales;__;__'],df['time-past-brushing-hours'])"
   ]
  },
  {
   "cell_type": "markdown",
   "metadata": {},
   "source": [
    "It appears that there is a strong and significant correlation between *Streptococcus* relative abundance and time after brushing teeth. \n",
    "\n",
    "The correlation in *Neisseira* abundance proofed non-significant (p > 0.05) and less strong. Though starting the correlation at a slightly later timepoint would probably provide different results.\n",
    "\n",
    "Lastly, an unspecified genus from the order *Burkholderiales* also exhibits a strong, signficant correlation\n",
    "\n",
    "The next step would now be to find biological reasons for these correlations.\n",
    "\n",
    "**Well done, you are finished with this workshop.** You can now shutdown the notebook, or use the remaining time to explore other [QIIME2 tutorials](https://docs.qiime2.org/2019.7/tutorials/)."
   ]
  }
 ],
 "metadata": {
  "kernelspec": {
   "display_name": "Python 3",
   "language": "python",
   "name": "python3"
  },
  "language_info": {
   "codemirror_mode": {
    "name": "ipython",
    "version": 3
   },
   "file_extension": ".py",
   "mimetype": "text/x-python",
   "name": "python",
   "nbconvert_exporter": "python",
   "pygments_lexer": "ipython3",
   "version": "3.6.7"
  }
 },
 "nbformat": 4,
 "nbformat_minor": 4
}
