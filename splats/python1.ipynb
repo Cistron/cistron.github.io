{
 "cells": [
  {
   "cell_type": "markdown",
   "metadata": {},
   "source": [
    "# Introduction to programming with Python\n",
    "\n",
    "This tutorial will provide you with a little taster introduction to programming. In small steps you will learn about basic syntax and routines and apply them to play the children’s word and number game Fizz Buzz.\n",
    "\n",
    "Make sure you fully read all instructions - **skim reading won't cut it** - and progress code cell by code cell. Some you can just execute, others you will have to edit. You can always add extra cells via the `Insert` in the top-menu.\n",
    "\n",
    "If you get stuck or something is not clear, do not fret:\n",
    "\n",
    "1. Have a close look at the error output, which will often tell you want went wrong, e.g. a typo leading to a syntax error.\n",
    "2. Re-read the instructions, including sections above, as they provide clues.\n",
    "3. Search for a solution online. Google and its ilk will usually provide you with links to documentations or forums like Stackoverflow with related solutions.\n",
    "4. Ask a demonstrator for help. Raise your arm and glare longingly at them. ;)\n",
    "5. Consult the [example solutions for this workshop](https://cistron.github.io/splats/python1/)."
   ]
  },
  {
   "cell_type": "markdown",
   "metadata": {},
   "source": [
    "## FizzBuzz!?\n",
    "\n",
    "[Fizz Buzz](https://en.wikipedia.org/wiki/Fizz_buzz) is often played by children sitting in a circle, counting from one upwards. However, at every multiple of 3, the player has to shout 'Fizz' and at every multiple of 5, 'Buzz'. At multiples of 5 and 3, this has to be combined into 'FizzBuzz'.\n",
    "\n",
    "Hence, it would go along the lines of `1, 2, Fizz, 4, Buzz, Fizz, 7, 8, Fizz, Buzz, 11, Fizz, 13, 14, FizzBuzz, 16, 17, Fizz, 19, Buzz, Fizz, 22, 23, Fizz, Buzz, 26, Fizz, 28, 29, FizzBuzz, 31, 32, Fizz, 34, Buzz, Fizz, ...`\n",
    "\n",
    "Now don't snuff at this quite yet, as thousands of programmers are challenged with *FizzBuzz* in their interviews. Though seemingly easy, one can implement more and more difficult aspects of programming into the game."
   ]
  },
  {
   "cell_type": "markdown",
   "metadata": {},
   "source": [
    "## S'up, Pythonistas?\n",
    "\n",
    "We can print strings of characters in Python by using the `print()` command. Entering\n",
    "\n",
    "```python\n",
    "print(\"S'up, Pythonistas?\")\n",
    "```\n",
    "\n",
    "into one of the Jupyter cells and executing it with `shift+enter` (or the `Run` button in the top-menu) will print the string of characters below. Please make note of the syntax - round parenthesis and, in this case, quotation marks around the phrase to be printed.\n",
    "\n",
    "Thanks to the Jupyter notebook, you can always edit cells and re-execute them. Make some deliberate (syntax) errors and see what error message are returned to you. Usually they provide a good clue about what went wrong."
   ]
  },
  {
   "cell_type": "code",
   "execution_count": null,
   "metadata": {},
   "outputs": [],
   "source": [
    "# test some print statements, make some errors\n",
    "# btw. anything behind a hashtag (#) is a comment and won't be interpreted\n",
    "print(\"edit and execute me - kthxbai!\")"
   ]
  },
  {
   "cell_type": "markdown",
   "metadata": {},
   "source": [
    "## Help! Algebra\n",
    "\n",
    "In order to play our game, we will have to implement a tiiiny bit of algebra and learn about variables and conditional statements.\n",
    "\n",
    "Python uses pretty standard operators for addition (`+`), substraction (`-`), multiplication (`*`), division (`/`) and exponents (`**`). In addition you can also use the modulo opperator (`%`), which returns the remainder after division - useful if you want to figure out if one number is the multiple of another.\n",
    "\n",
    "You can carry out just by typing numbers and operators in the Juypter cells. Hence, `5+9` returns `14`, whilst `5+9/3` returns `8.0`.\n",
    "\n",
    "Have a play. Maths is cool!"
   ]
  },
  {
   "cell_type": "code",
   "execution_count": null,
   "metadata": {},
   "outputs": [],
   "source": [
    "# have a play with maths\n",
    "# note that only the last output of the last operation will be shown\n",
    "# if you want to see more, use the `print()` function\n",
    "5+9/3"
   ]
  },
  {
   "cell_type": "markdown",
   "metadata": {},
   "source": [
    "## Variables - persistent little devils\n",
    "\n",
    "So far, all the code you've typed won't persist. In order to recall information we can pass it between lines of codes, we need to store it in a variable.\n",
    "\n",
    "Storage of information is carried out via the assignment operator (`=`). So if you wanted to store the result of your equation in a variable called `some_number`, you could do this as follows."
   ]
  },
  {
   "cell_type": "code",
   "execution_count": null,
   "metadata": {},
   "outputs": [],
   "source": [
    "# execute me\n",
    "some_number = 5+9/3\n",
    "print(some_number)"
   ]
  },
  {
   "cell_type": "markdown",
   "metadata": {},
   "source": [
    "Make note that a variable name (`some_number`) must not have any spaces. It cannot start with a number and there are limitations to special characters being used (go and experiment). Whole style guides have been written on the topic of naming - [here's one from Google](https://google.github.io/styleguide/pyguide.html#Naming).\n",
    "\n",
    "<!-- PEP8, import this, pythonic -->\n",
    "\n",
    "From now on, until you overwrite or clear the variable `some_number`, you can recall it and use it. Try printing it, or use it for more maths. What would happen if you did the following below?"
   ]
  },
  {
   "cell_type": "code",
   "execution_count": null,
   "metadata": {},
   "outputs": [],
   "source": [
    "some_number = some_number + 1\n",
    "# same as above, but with different syntax\n",
    "some_number += 1\n",
    "# or add it to itself\n",
    "some_number = some_number + some_number"
   ]
  },
  {
   "cell_type": "markdown",
   "metadata": {},
   "source": [
    "You can also assign text to a variable."
   ]
  },
  {
   "cell_type": "code",
   "execution_count": null,
   "metadata": {},
   "outputs": [],
   "source": [
    "some_text = \"Brave Sir Robin ran away. Bravely ran away away. When danger reared it’s ugly head, he bravely turned his tail and fled. Brave Sir Robin turned about and gallantly he chickened out ..."
   ]
  },
  {
   "cell_type": "markdown",
   "metadata": {},
   "source": [
    "There are many of different types of variables and data structures. Some more will be introduced later.\n",
    "\n",
    "The function `type()` will tell you which variable type you are dealing with. `type(some_text)` should return `str` for *string* (or sequences of characters). The number variable we created earlier, will return either `int` for *integer* or `float` for *floating point number* (i.e. number has a decimal point)."
   ]
  },
  {
   "cell_type": "markdown",
   "metadata": {},
   "source": [
    "## Let me check that for you\n",
    "\n",
    "Most programming languages (and Python indeed as well) come with a range of **comparison operations**. This allows the validation of a statement into a simple **Boolean** value of `True` or `False` (this exact spelling in Python). For example:"
   ]
  },
  {
   "cell_type": "code",
   "execution_count": null,
   "metadata": {},
   "outputs": [],
   "source": [
    "# execute the cell to see `True` and `False` outputs\n",
    "print(5 != 3) # not equal\n",
    "print(5 == 5) # equal\n",
    "print(5 > 3) # larger than\n",
    "print(5 >= 3) # equal or larger than\n",
    "print(5 < 3) # smaller than\n",
    "print(5 <= 3) # equal or smaller than"
   ]
  },
  {
   "cell_type": "markdown",
   "metadata": {},
   "source": [
    "Test some of your own comparisons. You can also compare information stored in variables.\n",
    "\n",
    "We could thus use a comparison to figure out whether a number was evenly divisible by another number (sounds useful for a counting game?):"
   ]
  },
  {
   "cell_type": "code",
   "execution_count": null,
   "metadata": {},
   "outputs": [],
   "source": [
    "print(current_count = 3)\n",
    "print(current_count % 3 == 0)"
   ]
  },
  {
   "cell_type": "markdown",
   "metadata": {},
   "source": [
    "## What if ...\n",
    "\n",
    "... you wanted to execute a bunch of code only under certain circumstances? \n",
    "\n",
    "This is where the Boolean `True` or `False` output becomes incredibly useful, as we can execute code through **conditionals** when a condition is met. *Conditionals* allow us to expand our code from just a linear set of orders to something branched and mor complex.\n",
    "\n",
    "Most commonly you will come across the `if` statement:"
   ]
  },
  {
   "cell_type": "code",
   "execution_count": null,
   "metadata": {},
   "outputs": [],
   "source": [
    "a_number = 10\n",
    "if a_number > 5:\n",
    "    print('The number is larger than 5')"
   ]
  },
  {
   "cell_type": "markdown",
   "metadata": {},
   "source": [
    "Please take note of the formatting. The `if`-statement starts with a colon (`:`) and all code which should only be executed if the comparison (`a_number > 5` in this case) validates as `True` is indented with a tab-stop.\n",
    "\n",
    "`if`-statements can be expanded with `elif` (else if), for other specific comparisons, and `else` clauses. The code under `else` is only executed if none of the `if` or `elif` statements are met. This allows us to cover several cases."
   ]
  },
  {
   "cell_type": "code",
   "execution_count": null,
   "metadata": {},
   "outputs": [],
   "source": [
    "a_number = 10\n",
    "if a_number > 5:\n",
    "    print('The number is larger than 5')\n",
    "elif a_number < 5:\n",
    "    print('The number is smaller than 5')\n",
    "else:\n",
    "    print('The number is 5')"
   ]
  },
  {
   "cell_type": "markdown",
   "metadata": {},
   "source": [
    "Note that the `if` and `elif` statements are evaluated sequentially. Hence, even if more than one would evaluate as `True`, only the first would be executed. To evaluate two conditions at the same time, comparisons can be connected with `and` and `or`."
   ]
  },
  {
   "cell_type": "code",
   "execution_count": null,
   "metadata": {},
   "outputs": [],
   "source": [
    "a_number = 10\n",
    "\n",
    "if a_number < 15 and a_number > 5:\n",
    "    print('The number is larger than 5, but smaller than 15')\n",
    "\n",
    "if a_number < 15 or a_number > 5:\n",
    "    print('The number is either larger than 5, or smaller than 15')"
   ]
  },
  {
   "cell_type": "code",
   "execution_count": null,
   "metadata": {},
   "outputs": [],
   "source": [
    "# use this code cell to play with if statements\n"
   ]
  },
  {
   "cell_type": "markdown",
   "metadata": {},
   "source": [
    "## Things are abuzz\n",
    "\n",
    "Now that you have learned how to use comparisons and if-statements, write your own `if` and `elif` code to evaluate a number for *Fizz Buzz*.\n",
    "\n",
    "Hint: Remember the modulo operator (`%`) and that numbers divisible by `3` should output `Fizz`, divisible by `5` `Buzz` and divisible by `5` and `3` `FizzBuzz`. Don't forget to just print the number if it isn't a multiple of 3 or 5.\n",
    "\n",
    "Make sure to test your code with serval input numbers (e.g. 3, 5, 15 and some non-mulitples of 3 and/or 5)."
   ]
  },
  {
   "cell_type": "code",
   "execution_count": null,
   "metadata": {},
   "outputs": [],
   "source": [
    "# complete the code below\n",
    "\n",
    "a_number = int(input('Enter an integer'))\n",
    "# input() allows you to interact with your programme\n",
    "# and int() converts the input to an integer (otherwise it is a string)\n",
    "\n",
    "if a_number ... == 0 :\n",
    "    print('FizzBuzz')\n",
    "elif ... :\n",
    "    print(...)\n",
    "elif ... :\n",
    "    print(...)\n",
    "else:\n",
    "    print(...)"
   ]
  },
  {
   "cell_type": "markdown",
   "metadata": {},
   "source": [
    "## One, two, ... many\n",
    "\n",
    "Now that you have figured out how to evaluate numbers, we need to keep them coming. Testing each number by hand is tedious. This is where **loops** come in. A `for` loop will continuously step through elements in a sequence."
   ]
  },
  {
   "cell_type": "code",
   "execution_count": null,
   "metadata": {},
   "outputs": [],
   "source": [
    "for i in [1,2,3,4,5,6,7,8,9,10]:\n",
    "    print(i)"
   ]
  },
  {
   "cell_type": "markdown",
   "metadata": {},
   "source": [
    "The example above will print out numbers from 1 to 10. The numbers in the rectangular brackets are in Python called a **list** (another data structure besides integers, floats, strings and many others). At every iteration of the loop, the variable `i` is assigned an **item** from this list. The indented code below is the executed. This happens until we reach the last element in the list.\n",
    "\n",
    "Note that you change the variable name of `i` to anything you chose, though `i` is usually used to refer to *iteration*.\n",
    "\n",
    "Since a primary motivation for coding is lazyness, there's a faster way to create pure numerical lists to step through with the `range()` function."
   ]
  },
  {
   "cell_type": "code",
   "execution_count": null,
   "metadata": {},
   "outputs": [],
   "source": [
    "for i in range(1,11):\n",
    "    print(i)"
   ]
  },
  {
   "cell_type": "markdown",
   "metadata": {},
   "source": [
    "1 to 11?!? Well, just using `range(10)` would return the number 0 to 9. Indexing in Python (and many other programming languages) starts at 0. That means the first item in a list will be item 0 and hence range usually starts at 0, unless otherwise defined. Hence `range(10)` is interpreted as `range(0,10)`.\n",
    "\n",
    "And why 11? When designing the end of the range, it helps to visualise it like a slicing operation. The sequence of numbers is 'sliced' just before the numbers put into the function (`0,10` and `1,11` respectively):\n",
    "\n",
    "```\n",
    "range(0,10)\n",
    "|0 1 2 3 4 5 6 7 8 9|10 11\n",
    "range(1,11)\n",
    " 0|1 2 3 4 5 6 7 8 9 10|11\n",
    "```\n",
    "\n",
    "We can nest more complicated code than just a `print` statement within loops; for example `if` statements."
   ]
  },
  {
   "cell_type": "code",
   "execution_count": null,
   "metadata": {},
   "outputs": [],
   "source": [
    "for count in range(20):\n",
    "    if count > 5:\n",
    "        print('The number is larger than 5')\n",
    "    elif count < 5:\n",
    "        print('The number is smaller than 5')\n",
    "    else:\n",
    "        print('The number is 5')"
   ]
  },
  {
   "cell_type": "markdown",
   "metadata": {},
   "source": [
    "In this case the loop will evaluate the number 0 to 19."
   ]
  },
  {
   "cell_type": "code",
   "execution_count": null,
   "metadata": {},
   "outputs": [],
   "source": [
    "# use this code cell to play with for loops\n"
   ]
  },
  {
   "cell_type": "markdown",
   "metadata": {},
   "source": [
    "## Ooooh, Fizzy\n",
    "\n",
    "Now that you know how to count up with a `for` loop, combine this with your evaluative `if` statements to play a short game of *Fizz Buzz*. Test several number ranges.\n",
    "\n",
    "Whenever you are working on more complicated programmes, it greatly helps to conceptualise and visualise what you are trying to achieve. Below is a flowchart of a relatively simple *Fizz Buzz* algorithm.\n",
    "\n",
    "![FizzBuzz algorithm](https://cistron.github.io/splats/images/python1/fizzbuzz_algorithm.png)\n",
    "\n",
    "This can be done on the back of a napkin, or in this case with a drawing software (draw.io). Feel free to clone [this *Fizz Buzz* flow chart](https://www.draw.io/?lightbox=1&highlight=0000ff&edit=_blank&layers=1&nav=1&title=fizzbuzz_algorithm.html#Uhttps%3A%2F%2Fdrive.google.com%2Fuc%3Fid%3D12Zj8lTX_aF-iXCBaeiRmu_NJjOiUckr9%26export%3Ddownload) and expand and adopt it for a more versatile algorithm later."
   ]
  },
  {
   "cell_type": "code",
   "execution_count": null,
   "metadata": {},
   "outputs": [],
   "source": [
    "# complete the code below\n",
    "for ...:\n",
    "    if ...:\n",
    "        print('FizzBuzz')\n",
    "    ..."
   ]
  },
  {
   "cell_type": "markdown",
   "metadata": {},
   "source": [
    "## Redundancy makes coders itch\n",
    "\n",
    "If you followed the provided algorithm, your code will likely be very similar to the example below.\n",
    "\n",
    "Programmers are lazy, because simpler code is easier to maintain as it requires less edits.\n",
    "\n",
    "In the example above, you'll find many print statements and even a superfluous check; `i%15 == 0` is given if both `i%3 == 0` and `i%5 == 0` evaluate as `True`.\n",
    "\n",
    "Let's simplify it and make the code more versatile. Read on, we'll get there in a minute."
   ]
  },
  {
   "cell_type": "markdown",
   "metadata": {},
   "source": [
    "## How long is a piece of string?\n",
    "\n",
    "At the beginning you experimented with a bit of basic algebra, using standard maths operators (`+-*/`) on integers or floats. We can use some of these operators on strings, where they have different effects. Where operators have different effects based on the context, this is known as **operator overloading**."
   ]
  },
  {
   "cell_type": "code",
   "execution_count": null,
   "metadata": {},
   "outputs": [],
   "source": [
    "short_string = \"na \"\n",
    "# note the whitespace is part of the string\n",
    "print(short_string + short_string)"
   ]
  },
  {
   "cell_type": "markdown",
   "metadata": {},
   "source": [
    "A plus (`+`) **concatenates** strings together, thus the return is: `na na `. Whilst an asteriks (`*`) will concatenate the string several times."
   ]
  },
  {
   "cell_type": "code",
   "execution_count": null,
   "metadata": {},
   "outputs": [],
   "source": [
    "bruce = 'BATMAAAAN'\n",
    "print(short_string.upper() * 16 + bruce) # .upper() converts string to UPPER CASE\n",
    "print('eggs, ' + 'spam, ' * 32 + 'eggs, spam and bacon')"
   ]
  },
  {
   "cell_type": "markdown",
   "metadata": {},
   "source": [
    "Besides these shenanigans, concatenation allows us to build up an output by adding bits to it. Hence it only has to be printed once."
   ]
  },
  {
   "cell_type": "code",
   "execution_count": null,
   "metadata": {},
   "outputs": [],
   "source": [
    "count = 10\n",
    "output = 'This number is '\n",
    "if count > 5:\n",
    "    output = output + 'larger than 5'\n",
    "if count > 8:\n",
    "    output += ' and larger than 8'\n",
    "if count < 15:\n",
    "    output += ', but smaller than 15.'\n",
    "print(output)"
   ]
  },
  {
   "cell_type": "markdown",
   "metadata": {},
   "source": [
    "Note that `+=` is a shorter notation of `output = output + ...`: take a variable, add to it and overwrite the original. (This also works for maths operations, e.g `count += 1`)\n",
    "\n",
    "How could you rewrite your code to make use of this and thus reduce the number of `if`- and `print`-statements? Do some back-of-the-napkin algorithm design before you modify your code."
   ]
  },
  {
   "cell_type": "code",
   "execution_count": null,
   "metadata": {},
   "outputs": [],
   "source": [
    "# complete the code below\n",
    "for ...:\n",
    "    output = \"\"\n",
    "    if ...:\n",
    "        output += 'Fizz'\n",
    "    if ...:\n",
    "        output += 'Buzz'\n",
    "    if output == '':\n",
    "        # print out the number\n",
    "    print(output)"
   ]
  },
  {
   "cell_type": "markdown",
   "metadata": {},
   "source": [
    "## Function over form\n",
    "\n",
    "Say you wanted to use your code to play *Fizz Buzz* twice, but for different amount of times (counting higher). The easiest way would be to copy and paste your code and edit the `range()` function. Though now you duplicated the code and maintenance has doubled.\n",
    "\n",
    "This is where functions come in. They make a piece of code more versatile, as they can be **called** again and again with different input parameters.\n",
    "\n",
    "Say we wanted to convert (poxy) Fahrenheit to degrees Celsius, using the formula $$ T_C = \\frac{5}{9}(T_F-32) $$."
   ]
  },
  {
   "cell_type": "code",
   "execution_count": null,
   "metadata": {},
   "outputs": [],
   "source": [
    "def f_to_c (fahrenheit):\n",
    "    \"\"\"Converts Fahrenheit to Celsius\"\"\"\n",
    "    # the triple-quote above is the (optional) documentation string\n",
    "    # it would show up if you used the help function on `f_to_c()`\n",
    "    celsius = (fahrenheit - 32)*(5/9)\n",
    "    return celsius"
   ]
  },
  {
   "cell_type": "markdown",
   "metadata": {},
   "source": [
    "Note the syntax: We define (`def`) the function by giving it a name and determine any **input parameters** (`fahrenheit`, but could be any name) we want to pass on to the indented code of the function. In this case, whatever number is passed for `fahrenheit` is fed into the equation and saved in the variable `celsius`, which is `returned` by the function.\n",
    "\n",
    "It is important to understand that the variables `celsius` and `fahrenheit` are only available within the context of this function - this concept is called **scope**. You will not be able to use either of the variables outside of the function, hence it is necessary to return a result to the 'outside'.\n",
    "\n",
    "Just by itself, the function won't do anything. It needs to be called, by passing it an input parameter."
   ]
  },
  {
   "cell_type": "code",
   "execution_count": null,
   "metadata": {},
   "outputs": [],
   "source": [
    "temp_in_f = 100\n",
    "temp_in_c = f_to_c(temp_in_f)\n",
    "print(temp_in_c)\n",
    "# odd, wasn't 100F supposed to be 37°C? Fahrenheit, meh ..."
   ]
  },
  {
   "cell_type": "markdown",
   "metadata": {},
   "source": [
    "Experiment a little, maybe write the reverse function to convert Celsius to Fahrenheit (no idea why anyone would ever need this though). Then wrap your *Fizz Buzz* code in a function declaration. What parameter would you pass it?"
   ]
  },
  {
   "cell_type": "code",
   "execution_count": null,
   "metadata": {},
   "outputs": [],
   "source": [
    "# use this code cell to have a play with functions\n",
    "# convert lbs to kg?\n"
   ]
  },
  {
   "cell_type": "code",
   "execution_count": null,
   "metadata": {},
   "outputs": [],
   "source": [
    "# complete the code below to write your own function\n",
    "\n",
    "def fizz_buzz (length):\n",
    "    for ...:\n",
    "        # do your thing\n",
    "        \n",
    "fizz_buzz(50)\n",
    "fizz_buzz(100)"
   ]
  },
  {
   "cell_type": "markdown",
   "metadata": {},
   "source": [
    "## Fizz, Buzz, Bang, etc.\n",
    "\n",
    "If you made it this far: congratulations. The next couple of points are more difficult challenges to make the *Fizz Buzz* function more versatile. Before checking the solutions, give it a good online-search. Stackoverflow is reliable resource for programming problems.\n",
    "\n",
    "1. So far the parameters of the game are hardwired. 'Fizz' is always called at multiples of 3 and 'Buzz' at multiples of 5. What if you wanted more flexibility?\n",
    "\n",
    "    Hint: functions can be passed more than just one parameter. And you can even define defaults.\n",
    "    \n",
    "```python\n",
    "def fizz_buzz (variable_one, variable_two='default', variable_three=100):\n",
    "    ...\n",
    "```"
   ]
  },
  {
   "cell_type": "code",
   "execution_count": null,
   "metadata": {},
   "outputs": [],
   "source": [
    "# Add input variables for FizzNumber, BuzzNumber\n",
    "def fizz_buzz ( ... ):\n",
    "    for i in range(1, ... ):\n",
    "        # do your thing\n",
    "    \n",
    "fizz_buzz(2,7,50) # last input is length"
   ]
  },
  {
   "cell_type": "markdown",
   "metadata": {},
   "source": [
    "2. How about more complexity? Add another parameter, `bang`."
   ]
  },
  {
   "cell_type": "code",
   "execution_count": null,
   "metadata": {},
   "outputs": [],
   "source": [
    "# Make the game more complicated by adding a third term `bang` - FizzBuzzBang\n",
    "def fizz_buzz_bang ( ... ):\n",
    "    for i in range(1, ... ):\n",
    "        # do your thing\n",
    "\n",
    "fizz_buzz_bang(3,5,4,60) # last input is length"
   ]
  },
  {
   "cell_type": "markdown",
   "metadata": {},
   "source": [
    "3. Complete flexibility? Unshackle the function completely from a fixed set of parameters.\n",
    "\n",
    "    Hint: you can also pass *lists* (`['fizz','buzz','bang']`, `[3,4,5]`) through function parameters. You will need to iterate over both input lists.\n",
    "\n",
    "    ```python\n",
    "    l = ['fizz','buzz','bang']\n",
    "    print(l[0]) # acess a single item by index\n",
    "    for index, item in enumerate(l):\n",
    "        print('The item \"{}\" is at index \"{}\"'.format(item,index))\n",
    "    ```"
   ]
  },
  {
   "cell_type": "code",
   "execution_count": null,
   "metadata": {},
   "outputs": [],
   "source": [
    "# Make the input more flexible, by inputing a list of terms and numbers\n",
    "def fizz_buzz ( ... ):\n",
    "    for i in range(1, ... ):\n",
    "        # do your thing\n",
    "\n",
    "fizz_buzz([3,4,5], ['Fizz','Buzz','Bang'],100) # last input is length"
   ]
  },
  {
   "cell_type": "markdown",
   "metadata": {},
   "source": [
    "4. Avoid having to match two input lists.\n",
    "\n",
    "    Hint: use dictionaries, which are always key and value pairs.\n",
    "\n",
    "    ```python\n",
    "    d = {'unique key':'value','Fizz':3,'Buzz':5,'Bang':7}\n",
    "    print(d['unique key']) # acess a single value by key\n",
    "    for key, value in d.items(): # to iterate over a dictionary\n",
    "        print('The key is \"{}\" and its value is \"{}\"'.format(key, value))\n",
    "    ```"
   ]
  },
  {
   "cell_type": "code",
   "execution_count": null,
   "metadata": {},
   "outputs": [],
   "source": [
    "# Flexible and save: the parameters for terms and numbers are passed as a dictionary,\n",
    "# so we don't have to match inherently connected input arguments\n",
    "def fizz_buzz ( ... ):\n",
    "    for i in range(1, ... ):\n",
    "        # do your thing\n",
    "        \n",
    "fizz_buzz({'Fizz':3,'Buzz':5},100) # last input is length"
   ]
  },
  {
   "cell_type": "markdown",
   "metadata": {},
   "source": [
    "## Further (mostly free) resources\n",
    "\n",
    "In order to get better at coding, as with any skill, you need deliberate praxis.\n",
    "\n",
    "Please note that this is most definitely not a comprehensive list of resources (a quick internet search will kick up tons more), nor is this a ranking.\n",
    "\n",
    "* There are tons of free introductory courses for Python, each with their own focus.\n",
    "    * [Codeacademy](https://www.codecademy.com/learn/learn-python) courses run completely in a browser\n",
    "    * [Data Camp](https://www.datacamp.com/courses/intro-to-python-for-data-science) aims to develop skills needed as a data scientist\n",
    "    * [Code School](https://www.codeschool.com/courses/try-python) is more aimed towards web-development\n",
    "* [Introduction to Research Programming (with Python)](http://rits.github-pages.ucl.ac.uk/intro-research-prog/) - by UCL Research IT Services\n",
    "* Lynda, which you can acess for free through UCL, has a whole range of [Python courses from beginner to intermediate](https://www.lynda.com/Python-training-tutorials/415-0.html)\n",
    "* More full-blown university-style MOOCs educating computer scientists are also widely available, e.g. from [MIT through edX](https://www.edx.org/course/introduction-computer-science-mitx-6-00-1x-11).\n",
    "* (e)Books/websites:\n",
    "    * [Automate the boring stuff with Python](https://automatetheboringstuff.com/)\n",
    "    * [Learn Python the hard way](https://learnpythonthehardway.org/book/preface.html)"
   ]
  }
 ],
 "metadata": {
  "kernelspec": {
   "display_name": "Python 3",
   "language": "python",
   "name": "python3"
  },
  "language_info": {
   "codemirror_mode": {
    "name": "ipython",
    "version": 3
   },
   "file_extension": ".py",
   "mimetype": "text/x-python",
   "name": "python",
   "nbconvert_exporter": "python",
   "pygments_lexer": "ipython3",
   "version": "3.7.2"
  }
 },
 "nbformat": 4,
 "nbformat_minor": 2
}
